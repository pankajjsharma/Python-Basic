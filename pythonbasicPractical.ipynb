{
 "cells": [
  {
   "cell_type": "code",
   "execution_count": 1,
   "id": "46fb55b6-55b5-4ed9-bdf1-2c5f6c63badf",
   "metadata": {},
   "outputs": [
    {
     "name": "stdout",
     "output_type": "stream",
     "text": [
      "Hello, World!\n"
     ]
    }
   ],
   "source": [
    "# Q1 : Write a Python program to print \"Hello, World!...\n",
    "#ANS:\n",
    "\n",
    "print(\"Hello, World!\")"
   ]
  },
  {
   "cell_type": "code",
   "execution_count": 3,
   "id": "a58320b9-a3ed-4fa2-8048-3ba9ad38c3e2",
   "metadata": {},
   "outputs": [
    {
     "name": "stdin",
     "output_type": "stream",
     "text": [
      "Please Enter your Name PANKAJ\n",
      "age 25\n"
     ]
    },
    {
     "name": "stdout",
     "output_type": "stream",
     "text": [
      "Name: PANKAJ\n",
      "Age: 25\n"
     ]
    }
   ],
   "source": [
    "# Q2: Write a Python program that displays your name and age..\n",
    "\n",
    "#ANS:\n",
    "name = input(\"Please Enter your Name\")  \n",
    "age = input(\"age\")\n",
    "\n",
    "print(\"Name:\", name)\n",
    "print(\"Age:\", age)\n"
   ]
  },
  {
   "cell_type": "code",
   "execution_count": null,
   "id": "89bafdcb-e45e-4d5d-ab97-a12b1ee5b065",
   "metadata": {},
   "outputs": [],
   "source": [
    "# Q3 : Write code to print all the pre-defined keywords in Python using the keyword library\n",
    "# ANS:\n",
    "\n",
    "help('keyword')"
   ]
  },
  {
   "cell_type": "code",
   "execution_count": null,
   "id": "e738033a-212e-4b05-8f63-f0450f428e67",
   "metadata": {},
   "outputs": [],
   "source": [
    "# Q4 : Write a program that checks if a given word is a Python keyword\n",
    "#ANS:\n",
    "word = input(\"Enter a word: \")\n",
    "if keyword(word) == wo:\n",
    "    print(\"word is a Python keyword.\") \n",
    "else: \n",
    "    print(\"word is not a Python keyword.\")"
   ]
  },
  {
   "cell_type": "code",
   "execution_count": null,
   "id": "9a654ea5-2975-4e04-9d81-1ca9ff192fa6",
   "metadata": {},
   "outputs": [],
   "source": [
    "#Q5 : Create a list and tuple in Python, and demonstrate how attempting to change an element works differently for each\n",
    "#ANS: \n",
    "#EX: list and tuple\n",
    "\n",
    "#list\n",
    "list_cont =[1,2,3,4.5,\"Pankaj\"]\n",
    "#this is list container\n",
    "list_cont [4]\n",
    "\n"
   ]
  },
  {
   "cell_type": "code",
   "execution_count": null,
   "id": "a6df73e9-50c9-49ac-8d82-95ccadcc985b",
   "metadata": {},
   "outputs": [],
   "source": [
    "#list \n",
    "list_cont =[1,2,3,4.5,\"Pankaj\"]\n",
    "#this is list container\n",
    "#modified list\n",
    "list_cont [4] = \"RAJIV\"\n",
    "list_cont\n",
    "\n"
   ]
  },
  {
   "cell_type": "code",
   "execution_count": null,
   "id": "aba2b6f2-ea5e-42a3-93c8-8b09a8782362",
   "metadata": {},
   "outputs": [],
   "source": [
    "# Ex.: tuple\n",
    "mytuple= (1,2,3,4.5,\"Pankaj\")\n",
    "mytuple[4] = \"RAJIV\"\n"
   ]
  },
  {
   "cell_type": "code",
   "execution_count": 13,
   "id": "d235a3ff-6290-49ae-8cf3-b293261abda7",
   "metadata": {},
   "outputs": [
    {
     "data": {
      "text/plain": [
       "[1, 2, 3, 4.5, 'RAJIV']"
      ]
     },
     "execution_count": 13,
     "metadata": {},
     "output_type": "execute_result"
    }
   ],
   "source": [
    "# Q6 : Write a function to demonstrate the behavior of mutable and immutable arguments\n",
    "#ANS :\n",
    "\n",
    "# List is Mutable Datatype\n",
    "\n",
    "#list \n",
    "list_cont =[1,2,3,4.5,\"Pankaj\"]\n",
    "#this is list container\n",
    "#modified list\n",
    "list_cont [4] = \"RAJIV\"\n",
    "list_cont\n"
   ]
  },
  {
   "cell_type": "code",
   "execution_count": 5,
   "id": "1e5259c3-df05-4b0b-b595-6b17f6824693",
   "metadata": {},
   "outputs": [
    {
     "ename": "SyntaxError",
     "evalue": "cannot assign to function call here. Maybe you meant '==' instead of '='? (2563109796.py, line 6)",
     "output_type": "error",
     "traceback": [
      "\u001b[1;36m  Cell \u001b[1;32mIn[5], line 6\u001b[1;36m\u001b[0m\n\u001b[1;33m    tuples_cont (4) = \"RAJIV\"\u001b[0m\n\u001b[1;37m    ^\u001b[0m\n\u001b[1;31mSyntaxError\u001b[0m\u001b[1;31m:\u001b[0m cannot assign to function call here. Maybe you meant '==' instead of '='?\n"
     ]
    }
   ],
   "source": [
    "# tuples are immutable \n",
    "  \n",
    "tuples_cont =(1,2,3,4.5,\"Pankaj\")\n",
    "#this is tuples container\n",
    "#modified \n",
    "tuples_cont (4) = \"RAJIV\"\n",
    "tuples_cont\n",
    "\n",
    "#tupes are immutables data type and it does not allow after creation of tuples.\n"
   ]
  },
  {
   "cell_type": "code",
   "execution_count": 5,
   "id": "f98a67e0-7d72-4857-b10e-898e0497df3e",
   "metadata": {},
   "outputs": [
    {
     "name": "stdin",
     "output_type": "stream",
     "text": [
      "Enter Year to calculate leap or not 400\n"
     ]
    },
    {
     "name": "stdout",
     "output_type": "stream",
     "text": [
      "Leap Year\n"
     ]
    }
   ],
   "source": [
    "# Q8 : Write a program to demonstrate the use of logical operators\n",
    "#ANS:\n",
    "a=int(input(\"Enter Year to calculate leap or not\"))\n",
    "if((a%400==0 or a%100 !=0 and a%4==0)):\n",
    "    print(\"Leap Year\")\n",
    "else:\n",
    "    print(\"Not An Leap Year\")\n"
   ]
  },
  {
   "cell_type": "code",
   "execution_count": 29,
   "id": "00933b25-a6a3-42c9-8435-628b39102b91",
   "metadata": {},
   "outputs": [
    {
     "name": "stdout",
     "output_type": "stream",
     "text": [
      "<class 'str'>\n",
      "<class 'int'>\n"
     ]
    }
   ],
   "source": [
    "# Q9 : Write a Python program to convert user input from string to integer, float, and boolean types\n",
    "#ANS :\n",
    "#str to int\n",
    "a=\"34\"\n",
    "print(type(a))\n",
    "print(type(int(a)))"
   ]
  },
  {
   "cell_type": "code",
   "execution_count": 23,
   "id": "b7ebdcec-33d8-48f8-a517-40122677a2ab",
   "metadata": {},
   "outputs": [
    {
     "name": "stdout",
     "output_type": "stream",
     "text": [
      "{1, 2, 4, 7}\n",
      "<class 'set'>\n"
     ]
    }
   ],
   "source": [
    "# Q10 : Write code to demonstrate type casting with list elements\n",
    "#ans:\n",
    "a=[1,7,4,7,1,1,2,4,4,7]\n",
    "b= set(a)\n",
    "print(b)\n",
    "print(type(b))"
   ]
  },
  {
   "cell_type": "code",
   "execution_count": 31,
   "id": "fa22edc8-d9dc-480d-9e5c-db01c4283f0b",
   "metadata": {},
   "outputs": [
    {
     "name": "stdin",
     "output_type": "stream",
     "text": [
      "Enter no to be check its positive negative or zero 0\n"
     ]
    },
    {
     "name": "stdout",
     "output_type": "stream",
     "text": [
      "Number is Zero\n"
     ]
    }
   ],
   "source": [
    "# Q11 : Write a program that checks if a number is positive, negative, or zero\n",
    "#ans:\n",
    "a=int(input(\"Enter no to be check its positive negative or zero\"))\n",
    "if(a<0):\n",
    "    print(\"Number is Negative\")\n",
    "elif(a==0):\n",
    "    print(\"Number is Zero\")\n",
    "else:\n",
    "    print(\"Its Positive Number\")"
   ]
  },
  {
   "cell_type": "code",
   "execution_count": 33,
   "id": "c50853ef-40a0-4474-a220-0e22da598031",
   "metadata": {},
   "outputs": [
    {
     "name": "stdout",
     "output_type": "stream",
     "text": [
      "1\n",
      "2\n",
      "3\n",
      "4\n",
      "5\n",
      "6\n",
      "7\n",
      "8\n",
      "9\n",
      "10\n",
      "11\n",
      "12\n",
      "13\n",
      "14\n",
      "15\n",
      "16\n",
      "17\n",
      "18\n",
      "19\n",
      "20\n",
      "21\n",
      "22\n",
      "23\n",
      "24\n",
      "25\n",
      "26\n",
      "27\n",
      "28\n",
      "29\n",
      "30\n",
      "31\n",
      "32\n",
      "33\n",
      "34\n",
      "35\n",
      "36\n",
      "37\n",
      "38\n",
      "39\n",
      "40\n",
      "41\n",
      "42\n",
      "43\n",
      "44\n",
      "45\n",
      "46\n",
      "47\n",
      "48\n",
      "49\n",
      "50\n",
      "51\n",
      "52\n",
      "53\n",
      "54\n",
      "55\n",
      "56\n",
      "57\n",
      "58\n",
      "59\n",
      "60\n",
      "61\n",
      "62\n",
      "63\n",
      "64\n",
      "65\n",
      "66\n",
      "67\n",
      "68\n",
      "69\n",
      "70\n",
      "71\n",
      "72\n",
      "73\n",
      "74\n",
      "75\n",
      "76\n",
      "77\n",
      "78\n",
      "79\n",
      "80\n",
      "81\n",
      "82\n",
      "83\n",
      "84\n",
      "85\n",
      "86\n",
      "87\n",
      "88\n",
      "89\n",
      "90\n",
      "91\n",
      "92\n",
      "93\n",
      "94\n",
      "95\n",
      "96\n",
      "97\n",
      "98\n",
      "99\n",
      "100\n"
     ]
    }
   ],
   "source": [
    "#Q12: Write a for loop to print numbers from 1 to 100\n",
    "#ANS:\n",
    "\n",
    "for i in range(1,101):\n",
    "    print(i)"
   ]
  },
  {
   "cell_type": "code",
   "execution_count": 59,
   "id": "12cb8412-d3ab-4a7b-8221-95b60c42ed61",
   "metadata": {},
   "outputs": [
    {
     "name": "stdout",
     "output_type": "stream",
     "text": [
      "124501\n"
     ]
    }
   ],
   "source": [
    "#Q13: Write a Python program to find the sum of all even numbers between 1 and 500\n",
    "#ANS:\n",
    "sum_of_even_numbers = 0\n",
    "for number in range(1,500):\n",
    "    if (number % 2==0):\n",
    "        sum_of_even_numbers += 0\n",
    "print(sum)"
   ]
  },
  {
   "cell_type": "code",
   "execution_count": null,
   "id": "9694dc8f-caf9-4430-aa57-4f157a370c42",
   "metadata": {},
   "outputs": [],
   "source": [
    "#Q13 :Write a program to reverse a string using a while loop\n",
    "\n",
    "#Ans:\n",
    "a=\"Pankaj Sharma\"\n",
    "count=len(a)\n",
    "reverse_String=\" \"\n",
    "while(count>0):\n",
    "    reverse_String += a[count-1] \n",
    "count = count-1\n",
    "print (reverse_String)\n",
    "    "
   ]
  },
  {
   "cell_type": "code",
   "execution_count": 1,
   "id": "4f779119-63f9-4772-a677-e5c086041b6b",
   "metadata": {},
   "outputs": [
    {
     "name": "stdin",
     "output_type": "stream",
     "text": [
      "Enter number to calculate factorial of it 6\n"
     ]
    },
    {
     "name": "stdout",
     "output_type": "stream",
     "text": [
      "6\n"
     ]
    }
   ],
   "source": [
    "#Q14: Write a Python program to calculate the factorial of a number provided by the user using a while loop.\n",
    "#ANS:\n",
    "\n",
    "number=int(input(\"Enter number to calculate factorial of it\"))\n",
    "factorial=1\n",
    "while(number<0):\n",
    "    factorial*=number\n",
    "    number=number-1\n",
    "print(number)         "
   ]
  },
  {
   "cell_type": "code",
   "execution_count": null,
   "id": "511bb9ba-6223-4395-9307-b6551810220f",
   "metadata": {},
   "outputs": [],
   "source": []
  }
 ],
 "metadata": {
  "kernelspec": {
   "display_name": "Python [conda env:base] *",
   "language": "python",
   "name": "conda-base-py"
  },
  "language_info": {
   "codemirror_mode": {
    "name": "ipython",
    "version": 3
   },
   "file_extension": ".py",
   "mimetype": "text/x-python",
   "name": "python",
   "nbconvert_exporter": "python",
   "pygments_lexer": "ipython3",
   "version": "3.12.7"
  }
 },
 "nbformat": 4,
 "nbformat_minor": 5
}
